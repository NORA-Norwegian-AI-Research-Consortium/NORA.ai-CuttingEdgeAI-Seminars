{
  "nbformat": 4,
  "nbformat_minor": 0,
  "metadata": {
    "accelerator": "GPU",
    "colab": {
      "provenance": [],
      "name": "T5 - Nora AI",
      "private_outputs": true,
      "machine_shape": "hm"
    },
    "kernelspec": {
      "display_name": "Python 3",
      "name": "python3"
    },
    "language_info": {
      "name": "python"
    },
    "gpuClass": "premium"
  },
  "cells": [
    {
      "cell_type": "code",
      "metadata": {
        "id": "aw2X56RzbAbb"
      },
      "source": [
        "# More info here: https://github.com/Shivanandroy/simpleT5\n",
        "# Install simple-T5\n",
        "!pip install simplet5"
      ],
      "execution_count": null,
      "outputs": []
    },
    {
      "cell_type": "code",
      "metadata": {
        "id": "DzGtoNTRbTRe"
      },
      "source": [
        "import pandas as pd\n",
        "\n",
        "# Set local output directory\n",
        "outputdir = \"/content/outputs\"\n",
        "\n",
        "# Load the data - Modified NORNE dataset\n",
        "train_df = pd.read_csv(\"https://storage.googleapis.com/notram-public/finetune_datasets/norne_simple/train2.tsv\",sep=\"\\t\")\n",
        "test_df = pd.read_csv(\"https://storage.googleapis.com/notram-public/finetune_datasets/norne_simple/test.tsv\",sep=\"\\t\")\n",
        "\n",
        "train_df"
      ],
      "execution_count": null,
      "outputs": []
    },
    {
      "cell_type": "code",
      "metadata": {
        "id": "16oOeSkphaPP"
      },
      "source": [
        "# *********** A FEW USEFUL TRICKS *************\n",
        "\n",
        "# simpleT5 expects dataframe to have 2 columns: \"source_text\" and \"target_text\", so this might have to be renames\n",
        "# df = df.rename(columns={\"headlines\":\"target_text\", \"text\":\"source_text\"})\n",
        "\n",
        "# drop not needed  columns\n",
        "# df = df[['source_text', 'target_text']]\n",
        "\n",
        "# In T5 you might add a prefix if you want to train it for multiple tasks\n",
        "# df['source_text'] = \"GDPR: \" + df['source_text']\n",
        "\n",
        "# If you need to split the dataset\n",
        "# from sklearn.model_selection import train_test_split\n",
        "# train_df, test_df = train_test_split(df, test_size=0.2)\n",
        "\n",
        "# We strongly recommend that you save the models on your Google Drive\n",
        "# To do that, you will first have to authenticate.\n",
        "# from google.colab import drive\n",
        "# drive.mount('/content/drive')\n",
        "# outputdir = \"/content/drive/MyDrive/simpleT5\""
      ],
      "execution_count": null,
      "outputs": []
    },
    {
      "cell_type": "code",
      "source": [
        "from simplet5 import SimpleT5\n",
        "\n",
        "# Load a pretrained model\n",
        "model = SimpleT5()\n",
        "model.from_pretrained(model_type=\"mt5\", model_name=\"north/t5_base_NCC\")\n",
        "\n",
        "# Finetune the model\n",
        "model.train(train_df=train_df[:],\n",
        "            eval_df=test_df[:], \n",
        "            source_max_token_len=64, \n",
        "            target_max_token_len=64, \n",
        "            batch_size=8, \n",
        "            max_epochs=5,\n",
        "            #early_stopping_patience_epochs = 0,\n",
        "            outputdir=outputdir,\n",
        "            use_gpu=True)"
      ],
      "metadata": {
        "id": "ldLXTLGw_HFM"
      },
      "execution_count": null,
      "outputs": []
    },
    {
      "cell_type": "code",
      "metadata": {
        "id": "7PVmAPLUSBMh"
      },
      "source": [
        "# Load the finetuned model for prediction\n",
        "# Find the folder where the model is stored, and update the path below\n",
        "model.load_model(\"mt5\",\"/content/drive/MyDrive/simpleT5/simplet5-epoch-31-train-loss-0.0057-val-loss-0.0116\", use_gpu=True)\n",
        "\n",
        "text_to_clean=\"Akkurat nå er Per Egil Kummervold ferdig med sitt foredrag i Oslo.\"\n",
        "#text_to_clean=\"Per i dag er status at Per og Dag har startet firmaet Per og Dag.\"\n",
        "\n",
        "model.predict(text_to_clean)"
      ],
      "execution_count": null,
      "outputs": []
    }
  ]
}