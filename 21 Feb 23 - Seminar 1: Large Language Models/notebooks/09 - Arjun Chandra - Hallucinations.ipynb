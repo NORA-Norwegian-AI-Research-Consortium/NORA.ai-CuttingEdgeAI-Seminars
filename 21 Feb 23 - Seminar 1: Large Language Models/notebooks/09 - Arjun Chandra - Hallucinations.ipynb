{
 "cells": [
  {
   "cell_type": "code",
   "execution_count": null,
   "id": "f0676266",
   "metadata": {},
   "outputs": [],
   "source": [
    "# Author: Arjun Chandra\n",
    "\n",
    "# Let's look at hallucinations in action!\n",
    "\n",
    "# We are going to use a ~52billion parameter model.\n",
    "# NB. This example is merely an illustration of the issue of hallunications with LLMs,\n",
    "# and is in no manner an attempt to judge the quality of the LLM. All LLMs hallucinate."
   ]
  },
  {
   "cell_type": "code",
   "execution_count": null,
   "id": "4ea7f3c6",
   "metadata": {},
   "outputs": [],
   "source": [
    "prompt_few_shot_examples=\"These are some examples for questions and answers asked by users on google. You can see that answers can be multiple words and even multiple lines. Lets look at a few.\\n\\nquestion: How do I jumpstart a car\\nAnswer: 1. Face both vehicles towards each other and park\\n2. Open both hoods and locate the batteries\\n3. Find the positive and negative battery terminals\\n4. Connect the red clamp to the positive post on the dead battery.\\n5. Connect the other red clamp to the positive post on the working battery.\\n--\\nquestion: when was the declaration of independence signed\\nAnswer: The declaration of independence was signed on August 2, 1776\\n--\\nquestion: Has gravity been proven? \\nAnswer: Most everyone in the scientific community believe gravitational waves exist, but no one has ever proved it. That\\'s because the signals from gravitational waves are usually incredibly weak.\\n--\\nquestion: when was justin trudeau elected\\nAnswer: Trudeau won the leadership of the Liberal Party in April 2013 and led his party to victory in the 2015 federal election, moving the third-placed Liberals from 36 seats to 184 seats, the largest-ever numerical increase by a party in a Canadian federal election.\\n--\\nquestion: How do you boil an egg?\\nAnswer: Put the eggs in a pan with cold water, and then put the pan on the stove. Heat the pan until the water is boiling. Turn off the heat and let the eggs sit in the hot water for about 10 minutes. When the eggs are done, take them out of the water.\\n--\\nquestion: How to register to vote?\\nAnswer: Every state except North Dakota requires citizens to register if they want to become voters. Depending on your state, the registration deadline could be as much as a month before an election. Check the U.S. Vote Foundation to find your state\\'s deadline for registering. You can also check your state or territory\\'s election office for more details. \\n--\\nquestion: Who invented the lightbulb?\\nAnswer: Thomas Edison invented the first commercially successful light bulb in 1879. Edison patented his invention and founded the Edison General Electric Company to manufacture and market electric light bulbs. \\n--\\nquestion: what is the us dept?\\nAnswer: By the end of 2021, the federal government had $28.43 trillion in federal debt.\\n--\\nquestion: is michael jackson alive?\\nAnswer: On June 25, 2009, Michael Jackson, one of the most commercially successful entertainers in history, dies at the age of 50 at his home in Los Angeles, California, after suffering from cardiac arrest \\n--\\nquestion: what are the major types of big cats?\\nAnswer: The big cats, which include tigers, lions, jaguars, leopards, and cheetahs, are the largest of the cat species. These cats are all strong, powerful, and fast, and they can hunt large animals\\n--\\nquestion: What are the different types of orbit used by satellites?\\nAnswer: There are essentially three types of Earth orbits: high Earth orbit, medium Earth orbit, and low Earth orbit. Many weather and some communications satellites tend to have a high Earth orbit, farthest away from the surface.\\n--\\nquestion: What is the latitude of Toronto?\\nAnswer: The latitude of Toronto, Ontario, Canada is 43.64 degrees North.\\n--\\nquestion:\""
   ]
  },
  {
   "cell_type": "code",
   "execution_count": null,
   "id": "21f55c2e",
   "metadata": {},
   "outputs": [],
   "source": [
    "question=\"Who is the current president of Norway?\""
   ]
  },
  {
   "cell_type": "code",
   "execution_count": null,
   "id": "a1b0137a",
   "metadata": {},
   "outputs": [],
   "source": [
    "prompt=prompt_few_shot_examples + f\"{question}\\nAnswer:\""
   ]
  },
  {
   "cell_type": "code",
   "execution_count": null,
   "id": "0155baf3",
   "metadata": {},
   "outputs": [],
   "source": [
    "print(prompt)"
   ]
  },
  {
   "cell_type": "code",
   "execution_count": null,
   "id": "d68b7650",
   "metadata": {},
   "outputs": [],
   "source": [
    "import cohere\n",
    "co = cohere.Client(\"YOUR_API_KEY\") # I am using a trial API key\n",
    "response = co.generate(\n",
    "  model='xlarge',\n",
    "  prompt=prompt,\n",
    "  max_tokens=50,\n",
    "  temperature=0.8,\n",
    "  k=0,\n",
    "  p=0.7,\n",
    "  frequency_penalty=0,\n",
    "  presence_penalty=0,\n",
    "  stop_sequences=[\".\\n\", \"--\"],\n",
    "  return_likelihoods='NONE')\n",
    "print('Prediction: {}'.format(response.generations[0].text))"
   ]
  }
 ],
 "metadata": {
  "kernelspec": {
   "display_name": "Python 3 (ipykernel)",
   "language": "python",
   "name": "python3"
  },
  "language_info": {
   "codemirror_mode": {
    "name": "ipython",
    "version": 3
   },
   "file_extension": ".py",
   "mimetype": "text/x-python",
   "name": "python",
   "nbconvert_exporter": "python",
   "pygments_lexer": "ipython3",
   "version": "3.10.9"
  }
 },
 "nbformat": 4,
 "nbformat_minor": 5
}
