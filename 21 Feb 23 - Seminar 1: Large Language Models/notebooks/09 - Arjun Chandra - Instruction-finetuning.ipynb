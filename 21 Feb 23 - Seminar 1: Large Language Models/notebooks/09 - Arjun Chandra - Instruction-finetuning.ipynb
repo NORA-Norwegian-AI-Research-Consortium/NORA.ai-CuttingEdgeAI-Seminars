{
 "cells": [
  {
   "cell_type": "code",
   "execution_count": null,
   "id": "0bb106df",
   "metadata": {},
   "outputs": [],
   "source": [
    "# Author: Arjun Chandra\n",
    "\n",
    "# Zero shot instruction finetuned response\n",
    "\n",
    "# An example showing the use of a model that has been finetuned with instruction\n",
    "# Instruction fine-tuning unlocks the capabiluty of for zero-shot inference"
   ]
  },
  {
   "cell_type": "code",
   "execution_count": null,
   "id": "0e359699",
   "metadata": {},
   "outputs": [],
   "source": [
    "instruction_prompt=\"Translate the following sentence from English to Norwegian.\\n\\nEnglish: What is your name?\\nNorwegian:\""
   ]
  },
  {
   "cell_type": "code",
   "execution_count": null,
   "id": "640aea78",
   "metadata": {},
   "outputs": [],
   "source": [
    "print(instruction_prompt)"
   ]
  },
  {
   "cell_type": "code",
   "execution_count": null,
   "id": "482e562e",
   "metadata": {},
   "outputs": [],
   "source": [
    "import cohere\n",
    "co = cohere.Client(\"YOUR_API_KEY\") # I am using a trial API key\n",
    "response = co.generate(\n",
    "  model='command-xlarge-nightly',\n",
    "  prompt=instruction_prompt,\n",
    "  max_tokens=300,\n",
    "  temperature=0.1,\n",
    "  k=0,\n",
    "  p=0.75,\n",
    "  frequency_penalty=0,\n",
    "  presence_penalty=0,\n",
    "  stop_sequences=[\".\\n\", \"--\"],\n",
    "  return_likelihoods='NONE')\n",
    "print('Prediction: {}'.format(response.generations[0].text))"
   ]
  }
 ],
 "metadata": {
  "kernelspec": {
   "display_name": "Python 3 (ipykernel)",
   "language": "python",
   "name": "python3"
  },
  "language_info": {
   "codemirror_mode": {
    "name": "ipython",
    "version": 3
   },
   "file_extension": ".py",
   "mimetype": "text/x-python",
   "name": "python",
   "nbconvert_exporter": "python",
   "pygments_lexer": "ipython3",
   "version": "3.10.9"
  }
 },
 "nbformat": 4,
 "nbformat_minor": 5
}
